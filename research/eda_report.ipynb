{
 "cells": [
  {
   "cell_type": "markdown",
   "metadata": {},
   "source": [
    "# Bank Marketing Dataset - Exploratory Data Analysis\n",
    "\n",
    "This notebook performs comprehensive EDA on the bank marketing dataset to understand characteristics for term deposit subscription prediction."
   ]
  },
  {
   "cell_type": "code",
   "execution_count": null,
   "metadata": {},
   "outputs": [],
   "source": [
    "# Import required libraries\n",
    "import pandas as pd\n",
    "import numpy as np\n",
    "import plotly.express as px\n",
    "import plotly.graph_objects as go\n",
    "from plotly.subplots import make_subplots\n",
    "import warnings\n",
    "warnings.filterwarnings('ignore')\n",
    "\n",
    "# App color palette\n",
    "app_color_palette = [\n",
    "    'rgba(99, 110, 250, 0.8)',   # Blue\n",
    "    'rgba(239, 85, 59, 0.8)',    # Red/Orange-Red\n",
    "    'rgba(0, 204, 150, 0.8)',    # Green\n",
    "    'rgba(171, 99, 250, 0.8)',   # Purple\n",
    "    'rgba(255, 161, 90, 0.8)',   # Orange\n",
    "    'rgba(25, 211, 243, 0.8)',   # Cyan\n",
    "    'rgba(255, 102, 146, 0.8)',  # Pink\n",
    "    'rgba(182, 232, 128, 0.8)',  # Light Green\n",
    "    'rgba(255, 151, 255, 0.8)',  # Magenta\n",
    "    'rgba(254, 203, 82, 0.8)'    # Yellow\n",
    "]\n",
    "\n",
    "def style_plotly_fig(fig):\n",
    "    \"\"\"Apply consistent styling to Plotly figures\"\"\"\n",
    "    fig.update_layout(\n",
    "        height=550,\n",
    "        paper_bgcolor='rgba(0,0,0,0)',  # Transparent background\n",
    "        plot_bgcolor='rgba(0,0,0,0)',   # Transparent plot area\n",
    "        font=dict(color='#8B5CF6', size=12),  # App's purple color for text\n",
    "        title_font=dict(color='#7C3AED', size=16),  # Slightly darker purple for titles\n",
    "        xaxis=dict(\n",
    "            gridcolor='rgba(139,92,246,0.2)',  # Purple-tinted grid\n",
    "            zerolinecolor='rgba(139,92,246,0.3)',\n",
    "            tickfont=dict(color='#8B5CF6', size=11),  # Purple tick labels\n",
    "            title_font=dict(color='#7C3AED', size=12)  # Darker purple axis titles\n",
    "        ),\n",
    "        yaxis=dict(\n",
    "            gridcolor='rgba(139,92,246,0.2)',  # Purple-tinted grid\n",
    "            zerolinecolor='rgba(139,92,246,0.3)', \n",
    "            tickfont=dict(color='#8B5CF6', size=11),  # Purple tick labels\n",
    "            title_font=dict(color='#7C3AED', size=12)  # Darker purple axis titles\n",
    "        ),\n",
    "        legend=dict(font=dict(color='#8B5CF6', size=11))  # Purple legend\n",
    "    )\n",
    "    return fig"
   ]
  },
  {
   "cell_type": "markdown",
   "metadata": {},
   "source": [
    "## 1. Dataset Loading and Basic Structure"
   ]
  },
  {
   "cell_type": "code",
   "execution_count": null,
   "metadata": {},
   "outputs": [],
   "source": [
    "# Load the dataset\n",
    "df = pd.read_csv('/Users/avivnahon/ds-agent-projects/session_0f4f0dd5-122d-4338-af13-0f967752758c/data/train.csv')\n",
    "\n",
    "# Map generic column names to meaningful names based on context\n",
    "column_mapping = {\n",
    "    'V1': 'age',\n",
    "    'V2': 'job', \n",
    "    'V3': 'marital',\n",
    "    'V4': 'education',\n",
    "    'V5': 'default',\n",
    "    'V6': 'balance',\n",
    "    'V7': 'housing',\n",
    "    'V8': 'loan',\n",
    "    'V9': 'contact',\n",
    "    'V10': 'day',\n",
    "    'V11': 'month',\n",
    "    'V12': 'duration',\n",
    "    'V13': 'campaign',\n",
    "    'V14': 'pdays',\n",
    "    'V15': 'previous',\n",
    "    'V16': 'poutcome',\n",
    "    'target': 'y'\n",
    "}\n",
    "\n",
    "df = df.rename(columns=column_mapping)\n",
    "\n",
    "print(f\"Dataset shape: {df.shape}\")\n",
    "print(f\"\\nColumn names and types:\")\n",
    "print(df.dtypes)\n",
    "print(f\"\\nFirst few rows:\")\n",
    "df.head()"
   ]
  },
  {
   "cell_type": "markdown",
   "metadata": {},
   "source": [
    "## 2. Missing Values and Basic Statistics"
   ]
  },
  {
   "cell_type": "code",
   "execution_count": null,
   "metadata": {},
   "outputs": [],
   "source": [
    "# Check for missing values\n",
    "missing_values = df.isnull().sum()\n",
    "print(\"Missing values per column:\")\n",
    "print(missing_values)\n",
    "print(f\"\\nTotal missing values: {missing_values.sum()}\")\n",
    "\n",
    "# Basic statistics\n",
    "print(\"\\n=== BASIC STATISTICS ===\")\n",
    "print(df.describe(include='all'))"
   ]
  },
  {
   "cell_type": "markdown",
   "metadata": {},
   "source": [
    "## 3. Target Variable Analysis"
   ]
  },
  {
   "cell_type": "code",
   "execution_count": null,
   "metadata": {},
   "outputs": [],
   "source": [
    "# Target variable distribution\n",
    "target_counts = df['y'].value_counts()\n",
    "target_props = df['y'].value_counts(normalize=True) * 100\n",
    "\n",
    "print(\"Target variable distribution:\")\n",
    "print(f\"Class 0 (No): {target_counts[0]} ({target_props[0]:.1f}%)\")\n",
    "print(f\"Class 1 (Yes): {target_counts[1]} ({target_props[1]:.1f}%)\")\n",
    "\n",
    "# Create target distribution plot\n",
    "fig = px.bar(x=['No Subscription', 'Subscription'], \n",
    "             y=[target_counts[0], target_counts[1]],\n",
    "             color=['No Subscription', 'Subscription'],\n",
    "             color_discrete_sequence=app_color_palette[:2])\n",
    "fig.update_layout(xaxis_title='Term Deposit Subscription', \n",
    "                  yaxis_title='Number of Clients',\n",
    "                  showlegend=False)\n",
    "fig = style_plotly_fig(fig)\n",
    "fig.write_html(\"/Users/avivnahon/ds-agent-projects/session_0f4f0dd5-122d-4338-af13-0f967752758c/research/plots/target_distribution.html\", \n",
    "               include_plotlyjs=True, config={'responsive': True, 'displayModeBar': False})\n",
    "fig.show()"
   ]
  },
  {
   "cell_type": "markdown",
   "metadata": {},
   "source": [
    "## 4. Categorical Features Analysis"
   ]
  },
  {
   "cell_type": "code",
   "execution_count": null,
   "metadata": {},
   "outputs": [],
   "source": [
    "# Identify categorical columns\n",
    "categorical_cols = ['job', 'marital', 'education', 'default', 'housing', 'loan', 'contact', 'month', 'poutcome']\n",
    "\n",
    "print(\"Categorical feature distributions:\")\n",
    "for col in categorical_cols:\n",
    "    print(f\"\\n{col.upper()}:\")\n",
    "    print(df[col].value_counts())\n",
    "    \n",
    "# Job distribution analysis\n",
    "job_counts = df['job'].value_counts()\n",
    "fig = px.bar(x=job_counts.index, y=job_counts.values,\n",
    "             color_discrete_sequence=[app_color_palette[0]])\n",
    "fig.update_layout(xaxis_title='Job Type', \n",
    "                  yaxis_title='Number of Clients',\n",
    "                  xaxis={'categoryorder': 'total descending'})\n",
    "fig.update_xaxis(tickangle=45)\n",
    "fig = style_plotly_fig(fig)\n",
    "fig.write_html(\"/Users/avivnahon/ds-agent-projects/session_0f4f0dd5-122d-4338-af13-0f967752758c/research/plots/job_distribution.html\", \n",
    "               include_plotlyjs=True, config={'responsive': True, 'displayModeBar': False})\n",
    "fig.show()"
   ]
  },
  {
   "cell_type": "markdown",
   "metadata": {},
   "source": [
    "## 5. Numerical Features Analysis"
   ]
  },
  {
   "cell_type": "code",
   "execution_count": null,
   "metadata": {},
   "outputs": [],
   "source": [
    "# Identify numerical columns\n",
    "numerical_cols = ['age', 'balance', 'day', 'duration', 'campaign', 'pdays', 'previous']\n",
    "\n",
    "print(\"Numerical feature statistics:\")\n",
    "print(df[numerical_cols].describe())\n",
    "\n",
    "# Age distribution\n",
    "fig = px.histogram(df, x='age', nbins=30, \n",
    "                   color_discrete_sequence=[app_color_palette[0]])\n",
    "fig.update_layout(xaxis_title='Age', \n",
    "                  yaxis_title='Number of Clients')\n",
    "fig = style_plotly_fig(fig)\n",
    "fig.write_html(\"/Users/avivnahon/ds-agent-projects/session_0f4f0dd5-122d-4338-af13-0f967752758c/research/plots/age_distribution.html\", \n",
    "               include_plotlyjs=True, config={'responsive': True, 'displayModeBar': False})\n",
    "fig.show()"
   ]
  },
  {
   "cell_type": "markdown",
   "metadata": {},
   "source": [
    "## 6. Balance Distribution Analysis"
   ]
  },
  {
   "cell_type": "code",
   "execution_count": null,
   "metadata": {},
   "outputs": [],
   "source": [
    "# Balance distribution - handle extreme values for better visualization\n",
    "balance_q95 = df['balance'].quantile(0.95)\n",
    "balance_q5 = df['balance'].quantile(0.05)\n",
    "\n",
    "print(f\"Balance statistics:\")\n",
    "print(f\"Min: {df['balance'].min()}\")\n",
    "print(f\"Max: {df['balance'].max()}\")\n",
    "print(f\"5th percentile: {balance_q5:.2f}\")\n",
    "print(f\"95th percentile: {balance_q95:.2f}\")\n",
    "print(f\"Negative balance count: {(df['balance'] < 0).sum()}\")\n",
    "\n",
    "# Create balance distribution plot (trimmed for better visualization)\n",
    "balance_trimmed = df[(df['balance'] >= balance_q5) & (df['balance'] <= balance_q95)]\n",
    "fig = px.histogram(balance_trimmed, x='balance', nbins=50,\n",
    "                   color_discrete_sequence=[app_color_palette[2]])\n",
    "fig.update_layout(xaxis_title='Account Balance (5th-95th percentile)', \n",
    "                  yaxis_title='Number of Clients')\n",
    "fig = style_plotly_fig(fig)\n",
    "fig.write_html(\"/Users/avivnahon/ds-agent-projects/session_0f4f0dd5-122d-4338-af13-0f967752758c/research/plots/balance_distribution.html\", \n",
    "               include_plotlyjs=True, config={'responsive': True, 'displayModeBar': False})\n",
    "fig.show()"
   ]
  },
  {
   "cell_type": "markdown",
   "metadata": {},
   "source": [
    "## 7. Feature Correlations"
   ]
  },
  {
   "cell_type": "code",
   "execution_count": null,
   "metadata": {},
   "outputs": [],
   "source": [
    "# Correlation matrix for numerical features\n",
    "corr_matrix = df[numerical_cols + ['y']].corr()\n",
    "print(\"Correlation with target variable:\")\n",
    "target_corr = corr_matrix['y'].abs().sort_values(ascending=False)\n",
    "print(target_corr)\n",
    "\n",
    "# Create correlation heatmap\n",
    "fig = px.imshow(corr_matrix, \n",
    "                color_continuous_scale='RdBu_r',\n",
    "                aspect='auto',\n",
    "                text_auto='.2f')\n",
    "fig.update_layout(xaxis_title='Features', \n",
    "                  yaxis_title='Features')\n",
    "fig = style_plotly_fig(fig)\n",
    "fig.write_html(\"/Users/avivnahon/ds-agent-projects/session_0f4f0dd5-122d-4338-af13-0f967752758c/research/plots/correlation_matrix.html\", \n",
    "               include_plotlyjs=True, config={'responsive': True, 'displayModeBar': False})\n",
    "fig.show()"
   ]
  },
  {
   "cell_type": "markdown",
   "metadata": {},
   "source": [
    "## 8. Campaign Duration Analysis"
   ]
  },
  {
   "cell_type": "code",
   "execution_count": null,
   "metadata": {},
   "outputs": [],
   "source": [
    "# Duration analysis by target\n",
    "print(\"Duration statistics by target:\")\n",
    "duration_stats = df.groupby('y')['duration'].describe()\n",
    "print(duration_stats)\n",
    "\n",
    "# Duration distribution by target (log scale for better visualization)\n",
    "fig = px.box(df, x='y', y='duration', \n",
    "             color='y', color_discrete_sequence=app_color_palette[:2])\n",
    "fig.update_layout(xaxis_title='Target (0=No, 1=Yes)', \n",
    "                  yaxis_title='Call Duration (seconds)',\n",
    "                  yaxis_type='log',\n",
    "                  showlegend=False)\n",
    "fig = style_plotly_fig(fig)\n",
    "fig.write_html(\"/Users/avivnahon/ds-agent-projects/session_0f4f0dd5-122d-4338-af13-0f967752758c/research/plots/duration_by_target.html\", \n",
    "               include_plotlyjs=True, config={'responsive': True, 'displayModeBar': False})\n",
    "fig.show()"
   ]
  },
  {
   "cell_type": "markdown",
   "metadata": {},
   "source": [
    "## 9. Previous Campaign Analysis"
   ]
  },
  {
   "cell_type": "code",
   "execution_count": null,
   "metadata": {},
   "outputs": [],
   "source": [
    "# Previous campaign outcome analysis\n",
    "poutcome_target = pd.crosstab(df['poutcome'], df['y'], normalize='index') * 100\n",
    "print(\"Subscription rate by previous campaign outcome:\")\n",
    "print(poutcome_target)\n",
    "\n",
    "# Previous campaign outcome effectiveness\n",
    "poutcome_counts = df.groupby(['poutcome', 'y']).size().unstack(fill_value=0)\n",
    "fig = px.bar(x=poutcome_counts.index, \n",
    "             y=[poutcome_counts[0], poutcome_counts[1]],\n",
    "             color_discrete_sequence=app_color_palette[:2],\n",
    "             barmode='group')\n",
    "fig.update_layout(xaxis_title='Previous Campaign Outcome', \n",
    "                  yaxis_title='Number of Clients',\n",
    "                  legend_title='Target')\n",
    "fig = style_plotly_fig(fig)\n",
    "fig.write_html(\"/Users/avivnahon/ds-agent-projects/session_0f4f0dd5-122d-4338-af13-0f967752758c/research/plots/previous_campaign_outcome.html\", \n",
    "               include_plotlyjs=True, config={'responsive': True, 'displayModeBar': False})\n",
    "fig.show()"
   ]
  },
  {
   "cell_type": "markdown",
   "metadata": {},
   "source": [
    "## 10. Monthly Campaign Analysis"
   ]
  },
  {
   "cell_type": "code",
   "execution_count": null,
   "metadata": {},
   "outputs": [],
   "source": [
    "# Monthly campaign effectiveness\n",
    "monthly_success = df.groupby('month')['y'].agg(['count', 'mean']).reset_index()\n",
    "monthly_success['success_rate'] = monthly_success['mean'] * 100\n",
    "\n",
    "print(\"Campaign effectiveness by month:\")\n",
    "print(monthly_success.sort_values('success_rate', ascending=False))\n",
    "\n",
    "# Monthly success rate plot\n",
    "month_order = ['jan', 'feb', 'mar', 'apr', 'may', 'jun', \n",
    "               'jul', 'aug', 'sep', 'oct', 'nov', 'dec']\n",
    "monthly_success['month'] = pd.Categorical(monthly_success['month'], categories=month_order, ordered=True)\n",
    "monthly_success = monthly_success.sort_values('month')\n",
    "\n",
    "fig = px.line(monthly_success, x='month', y='success_rate', \n",
    "              markers=True, color_discrete_sequence=[app_color_palette[0]])\n",
    "fig.update_layout(xaxis_title='Month', \n",
    "                  yaxis_title='Success Rate (%)')\n",
    "fig = style_plotly_fig(fig)\n",
    "fig.write_html(\"/Users/avivnahon/ds-agent-projects/session_0f4f0dd5-122d-4338-af13-0f967752758c/research/plots/monthly_success_rate.html\", \n",
    "               include_plotlyjs=True, config={'responsive': True, 'displayModeBar': False})\n",
    "fig.show()"
   ]
  },
  {
   "cell_type": "markdown",
   "metadata": {},
   "source": [
    "## 11. Summary Statistics"
   ]
  },
  {
   "cell_type": "code",
   "execution_count": null,
   "metadata": {},
   "outputs": [],
   "source": [
    "print(\"=== EDA SUMMARY ===\")\n",
    "print(f\"Dataset size: {df.shape[0]} rows, {df.shape[1]} columns\")\n",
    "print(f\"Missing values: {df.isnull().sum().sum()}\")\n",
    "print(f\"Target class distribution: {target_props[0]:.1f}% No, {target_props[1]:.1f}% Yes\")\n",
    "print(f\"Most common job: {df['job'].mode()[0]}\")\n",
    "print(f\"Average age: {df['age'].mean():.1f} years\")\n",
    "print(f\"Average call duration: {df['duration'].mean():.1f} seconds\")\n",
    "print(f\"Highest success rate month: {monthly_success.loc[monthly_success['success_rate'].idxmax(), 'month']}\")"
   ]
  }
 ],
 "metadata": {
  "kernelspec": {
   "display_name": "Python 3",
   "language": "python",
   "name": "python3"
  },
  "language_info": {
   "codemirror_mode": {
    "name": "ipython",
    "version": 3
   },
   "file_extension": ".py",
   "name": "python",
   "nbconvert_exporter": "python",
   "pygments_lexer": "ipython3",
   "version": "3.8.10"
  }
 },
 "nbformat": 4,
 "nbformat_minor": 4
}